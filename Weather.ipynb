{
 "cells": [
  {
   "cell_type": "markdown",
   "metadata": {},
   "source": [
    "Importing dependencies"
   ]
  },
  {
   "cell_type": "code",
   "execution_count": 25,
   "metadata": {},
   "outputs": [],
   "source": [
    "import time\n",
    "import pytz\n",
    "import requests\n",
    "import pandas as pd\n",
    "import numpy as np\n",
    "import matplotlib.pyplot as plt\n",
    "from datetime import date, timedelta"
   ]
  },
  {
   "cell_type": "markdown",
   "metadata": {},
   "source": [
    "Testing out the API output"
   ]
  },
  {
   "cell_type": "code",
   "execution_count": 26,
   "metadata": {},
   "outputs": [
    {
     "name": "stdout",
     "output_type": "stream",
     "text": [
      "JSON data:\n",
      "{'station': {'code': 'kauno-ams', 'name': 'Kauno AMS', 'coordinates': {'latitude': 54.88396, 'longitude': 23.83588}}, 'observations': [{'observationTimeUtc': '2024-12-19 00:00:00', 'airTemperature': 5.6, 'feelsLikeTemperature': 1.8, 'windSpeed': 5.5, 'windGust': 11.1, 'windDirection': 231, 'cloudCover': 100, 'seaLevelPressure': 1002.7, 'relativeHumidity': 97, 'precipitation': 0.4, 'conditionCode': 'light-rain'}, {'observationTimeUtc': '2024-12-19 01:00:00', 'airTemperature': 5.7, 'feelsLikeTemperature': 2.5, 'windSpeed': 4.3, 'windGust': 7.7, 'windDirection': 226, 'cloudCover': 100, 'seaLevelPressure': 1002, 'relativeHumidity': 97, 'precipitation': 0.5, 'conditionCode': 'light-rain'}, {'observationTimeUtc': '2024-12-19 02:00:00', 'airTemperature': 6, 'feelsLikeTemperature': 2.8, 'windSpeed': 4.5, 'windGust': 9, 'windDirection': 226, 'cloudCover': 100, 'seaLevelPressure': 1001.4, 'relativeHumidity': 97, 'precipitation': 0.3, 'conditionCode': 'light-rain'}, {'observationTimeUtc': '2024-12-19 03:00:00', 'airTemperature': 6.4, 'feelsLikeTemperature': 2.9, 'windSpeed': 5.4, 'windGust': 9.8, 'windDirection': 230, 'cloudCover': 100, 'seaLevelPressure': 1000.7, 'relativeHumidity': 96, 'precipitation': 0.3, 'conditionCode': 'light-rain'}, {'observationTimeUtc': '2024-12-19 04:00:00', 'airTemperature': 6.6, 'feelsLikeTemperature': 3.3, 'windSpeed': 5, 'windGust': 7.9, 'windDirection': 236, 'cloudCover': 100, 'seaLevelPressure': 1000.6, 'relativeHumidity': 97, 'precipitation': 0.4, 'conditionCode': 'light-rain'}, {'observationTimeUtc': '2024-12-19 05:00:00', 'airTemperature': 7.7, 'feelsLikeTemperature': 4.7, 'windSpeed': 5, 'windGust': 8.6, 'windDirection': 244, 'cloudCover': 100, 'seaLevelPressure': 1000, 'relativeHumidity': 95, 'precipitation': 0, 'conditionCode': 'light-rain'}, {'observationTimeUtc': '2024-12-19 06:00:00', 'airTemperature': 8.1, 'feelsLikeTemperature': 5.2, 'windSpeed': 5, 'windGust': 9.9, 'windDirection': 243, 'cloudCover': 100, 'seaLevelPressure': 999.9, 'relativeHumidity': 94, 'precipitation': 0, 'conditionCode': 'light-rain'}, {'observationTimeUtc': '2024-12-19 07:00:00', 'airTemperature': 7.8, 'feelsLikeTemperature': 4.9, 'windSpeed': 4.7, 'windGust': 8.6, 'windDirection': 232, 'cloudCover': 100, 'seaLevelPressure': 1000.1, 'relativeHumidity': 94, 'precipitation': 0, 'conditionCode': 'light-rain'}, {'observationTimeUtc': '2024-12-19 08:00:00', 'airTemperature': 7.8, 'feelsLikeTemperature': 5.5, 'windSpeed': 3.6, 'windGust': 6.8, 'windDirection': 223, 'cloudCover': 88, 'seaLevelPressure': 1000, 'relativeHumidity': 94, 'precipitation': 0, 'conditionCode': 'cloudy'}, {'observationTimeUtc': '2024-12-19 09:00:00', 'airTemperature': 8.1, 'feelsLikeTemperature': 5.5, 'windSpeed': 4.4, 'windGust': 7.3, 'windDirection': 226, 'cloudCover': 100, 'seaLevelPressure': 999.6, 'relativeHumidity': 93, 'precipitation': 0, 'conditionCode': 'cloudy'}, {'observationTimeUtc': '2024-12-19 10:00:00', 'airTemperature': 8.5, 'feelsLikeTemperature': 5.7, 'windSpeed': 5.1, 'windGust': 9.2, 'windDirection': 223, 'cloudCover': 100, 'seaLevelPressure': 998.6, 'relativeHumidity': 90, 'precipitation': 0, 'conditionCode': 'cloudy'}, {'observationTimeUtc': '2024-12-19 11:00:00', 'airTemperature': 8.7, 'feelsLikeTemperature': 5.7, 'windSpeed': 5.6, 'windGust': 9.3, 'windDirection': 218, 'cloudCover': 100, 'seaLevelPressure': 997.6, 'relativeHumidity': 88, 'precipitation': 0, 'conditionCode': 'cloudy'}, {'observationTimeUtc': '2024-12-19 12:00:00', 'airTemperature': 8.5, 'feelsLikeTemperature': 5.1, 'windSpeed': 6.5, 'windGust': 9.5, 'windDirection': 214, 'cloudCover': 100, 'seaLevelPressure': 996.5, 'relativeHumidity': 88, 'precipitation': 0, 'conditionCode': 'cloudy'}, {'observationTimeUtc': '2024-12-19 13:00:00', 'airTemperature': 8.7, 'feelsLikeTemperature': 5, 'windSpeed': 7.8, 'windGust': 11.6, 'windDirection': 216, 'cloudCover': 100, 'seaLevelPressure': 995.8, 'relativeHumidity': 86, 'precipitation': 0, 'conditionCode': 'cloudy'}, {'observationTimeUtc': '2024-12-19 14:00:00', 'airTemperature': 8.5, 'feelsLikeTemperature': 4.5, 'windSpeed': 8.6, 'windGust': 11.7, 'windDirection': 203, 'cloudCover': 100, 'seaLevelPressure': 994.9, 'relativeHumidity': 85, 'precipitation': 0, 'conditionCode': 'cloudy'}, {'observationTimeUtc': '2024-12-19 15:00:00', 'airTemperature': 8.6, 'feelsLikeTemperature': 4.9, 'windSpeed': 7.8, 'windGust': 11.4, 'windDirection': 202, 'cloudCover': 100, 'seaLevelPressure': 993.9, 'relativeHumidity': 83, 'precipitation': 0, 'conditionCode': 'cloudy'}]}\n"
     ]
    }
   ],
   "source": [
    "result = requests.get('https://api.meteo.lt/v1/stations/kauno-ams/observations/2024-12-19')\n",
    "print(\"JSON data:\")\n",
    "print(result.json())"
   ]
  },
  {
   "cell_type": "markdown",
   "metadata": {},
   "source": [
    "The API data class for geting weather forecasts and historic data"
   ]
  },
  {
   "cell_type": "code",
   "execution_count": 27,
   "metadata": {},
   "outputs": [],
   "source": [
    "\"\"\"\n",
    "Naudojami tryskintamieji:\n",
    "location - lokacijos kodas\n",
    "station - metorologinės stotelės kodas\n",
    "url - Meteo.lt API URL adresas\n",
    "\n",
    "Orų prognozėms naudojamas location, istoriniams duomenims station.\n",
    "Šie du kintamieji neturi jokių bendrų parametrų, kurie gali būti gauti per API užklausą,\n",
    "dėl to nuspręndžiau vietovės parametrą iškirsti į du atskirus.\n",
    "\"\"\"\n",
    "class APIData():\n",
    "    def __init__(self, location: str, station:str, url: str):\n",
    "        self.location: str = location\n",
    "        self.station: str = station\n",
    "        self.url: str = url\n",
    "\n",
    "    def historicData(self, timeFrom: date, timeTo: date):\n",
    "        # Patikriname ar laikas iki yra ne ateityje, kadangi ateityje nėra istorinių įrašų, \n",
    "        # kuriuos būtų galima gauti per API\n",
    "        if timeTo <= date.today():\n",
    "            timeCurrent = timeFrom\n",
    "            df = pd.DataFrame(columns = ['observationTimeUtc', 'airTemperature', 'relativeHumidity'])\n",
    "            df[\"observationTimeUtc\"] = pd.to_datetime(df[\"observationTimeUtc\"])\n",
    "\n",
    "            # Kadangi API gali gražinti tik specifinės dienos įrašus, sukame while ciklą,\n",
    "            # kol į pandas.Dataframe bus pridėti visų dienų įrašai\n",
    "            while timeCurrent <= timeTo:\n",
    "                result = requests.get(f'{self.url}/stations/{self.station}/observations/{timeCurrent}')\n",
    "                new_data = pd.DataFrame(result.json()['observations'])\n",
    "                new_data[\"observationTimeUtc\"] = pd.to_datetime(new_data[\"observationTimeUtc\"])\n",
    "\n",
    "                df = pd.concat([df, new_data], ignore_index=True)\n",
    "                timeCurrent = timeCurrent + timedelta(days=1)\n",
    "                time.sleep(0.5) # Kas API užklausą užmigdome ciklą pusei sekundės, kad išvengtume API limitų (maksimaliai galima daryt 180 užklausų per minutę)\n",
    "            \n",
    "            # Įrašo laiką paverčiame duomenų rinkinio indeksu, jam sureguliuojame laiko zoną\n",
    "            df.set_index(\"observationTimeUtc\", inplace=True)\n",
    "            df.index = df.index.tz_localize(\"UTC\")\n",
    "            df.index = df.index.tz_convert(\"Europe/Vilnius\")\n",
    "            return df\n",
    "        \n",
    "        else:\n",
    "            return('The specified time (timeTo) is later than the current time!')\n",
    "        \n",
    "    def forecastData(self):\n",
    "        # Orų prognozės API vienų atsaku grąžina visą galimą informaciją, dėl to nesiunčiame papildomų užklausų\n",
    "        result = requests.get(f'{self.url}/places/{self.location}/forecasts/long-term')\n",
    "        df = pd.DataFrame(result.json()['forecastTimestamps'])\n",
    "        df[\"forecastTimeUtc\"] = pd.to_datetime(df[\"forecastTimeUtc\"])\n",
    "\n",
    "        # Įrašo laiką paverčiame duomenų rinkinio indeksu, jam sureguliuojame laiko zoną\n",
    "        df.set_index(\"forecastTimeUtc\", inplace=True)\n",
    "        df.index = df.index.tz_localize(\"UTC\")\n",
    "        df.index = df.index.tz_convert(\"Europe/Vilnius\")\n",
    "        return df"
   ]
  },
  {
   "cell_type": "markdown",
   "metadata": {},
   "source": [
    "Creating the API Data object"
   ]
  },
  {
   "cell_type": "code",
   "execution_count": 28,
   "metadata": {},
   "outputs": [],
   "source": [
    "api = APIData(location = 'kaunas', station = 'kauno-ams', url = 'https://api.meteo.lt/v1')"
   ]
  },
  {
   "cell_type": "markdown",
   "metadata": {},
   "source": [
    "Return historic forecast data for last year and all possible future predictions"
   ]
  },
  {
   "cell_type": "code",
   "execution_count": 29,
   "metadata": {},
   "outputs": [],
   "source": [
    "dfHistoric: pd.DataFrame = api.historicData(timeFrom = date.today() - timedelta(days=365), timeTo = date.today())\n",
    "dfForcast: pd.DataFrame = api.forecastData()"
   ]
  },
  {
   "cell_type": "markdown",
   "metadata": {},
   "source": [
    "Checking out returned dataframes"
   ]
  },
  {
   "cell_type": "code",
   "execution_count": 30,
   "metadata": {},
   "outputs": [
    {
     "data": {
      "text/html": [
       "<div>\n",
       "<style scoped>\n",
       "    .dataframe tbody tr th:only-of-type {\n",
       "        vertical-align: middle;\n",
       "    }\n",
       "\n",
       "    .dataframe tbody tr th {\n",
       "        vertical-align: top;\n",
       "    }\n",
       "\n",
       "    .dataframe thead th {\n",
       "        text-align: right;\n",
       "    }\n",
       "</style>\n",
       "<table border=\"1\" class=\"dataframe\">\n",
       "  <thead>\n",
       "    <tr style=\"text-align: right;\">\n",
       "      <th></th>\n",
       "      <th>airTemperature</th>\n",
       "      <th>relativeHumidity</th>\n",
       "      <th>feelsLikeTemperature</th>\n",
       "      <th>windSpeed</th>\n",
       "      <th>windGust</th>\n",
       "      <th>windDirection</th>\n",
       "      <th>cloudCover</th>\n",
       "      <th>seaLevelPressure</th>\n",
       "      <th>precipitation</th>\n",
       "      <th>conditionCode</th>\n",
       "    </tr>\n",
       "    <tr>\n",
       "      <th>observationTimeUtc</th>\n",
       "      <th></th>\n",
       "      <th></th>\n",
       "      <th></th>\n",
       "      <th></th>\n",
       "      <th></th>\n",
       "      <th></th>\n",
       "      <th></th>\n",
       "      <th></th>\n",
       "      <th></th>\n",
       "      <th></th>\n",
       "    </tr>\n",
       "  </thead>\n",
       "  <tbody>\n",
       "    <tr>\n",
       "      <th>2023-12-20 02:00:00+02:00</th>\n",
       "      <td>5.7</td>\n",
       "      <td>96</td>\n",
       "      <td>2.3</td>\n",
       "      <td>4.8</td>\n",
       "      <td>9.2</td>\n",
       "      <td>263.0</td>\n",
       "      <td>100.0</td>\n",
       "      <td>1002.0</td>\n",
       "      <td>0.1</td>\n",
       "      <td>light-rain</td>\n",
       "    </tr>\n",
       "    <tr>\n",
       "      <th>2023-12-20 03:00:00+02:00</th>\n",
       "      <td>5.6</td>\n",
       "      <td>95</td>\n",
       "      <td>2.1</td>\n",
       "      <td>4.9</td>\n",
       "      <td>8.6</td>\n",
       "      <td>260.0</td>\n",
       "      <td>100.0</td>\n",
       "      <td>1001.5</td>\n",
       "      <td>0.0</td>\n",
       "      <td>light-rain</td>\n",
       "    </tr>\n",
       "    <tr>\n",
       "      <th>2023-12-20 04:00:00+02:00</th>\n",
       "      <td>5.5</td>\n",
       "      <td>95</td>\n",
       "      <td>2.3</td>\n",
       "      <td>4.2</td>\n",
       "      <td>8.4</td>\n",
       "      <td>295.0</td>\n",
       "      <td>100.0</td>\n",
       "      <td>1001.4</td>\n",
       "      <td>0.1</td>\n",
       "      <td>light-rain</td>\n",
       "    </tr>\n",
       "    <tr>\n",
       "      <th>2023-12-20 05:00:00+02:00</th>\n",
       "      <td>4.3</td>\n",
       "      <td>96</td>\n",
       "      <td>1.5</td>\n",
       "      <td>3.2</td>\n",
       "      <td>7.3</td>\n",
       "      <td>306.0</td>\n",
       "      <td>100.0</td>\n",
       "      <td>1001.6</td>\n",
       "      <td>0.3</td>\n",
       "      <td>light-rain</td>\n",
       "    </tr>\n",
       "    <tr>\n",
       "      <th>2023-12-20 06:00:00+02:00</th>\n",
       "      <td>4.1</td>\n",
       "      <td>94</td>\n",
       "      <td>1.9</td>\n",
       "      <td>2.4</td>\n",
       "      <td>6.5</td>\n",
       "      <td>271.0</td>\n",
       "      <td>100.0</td>\n",
       "      <td>1001.6</td>\n",
       "      <td>0.1</td>\n",
       "      <td>rain</td>\n",
       "    </tr>\n",
       "    <tr>\n",
       "      <th>...</th>\n",
       "      <td>...</td>\n",
       "      <td>...</td>\n",
       "      <td>...</td>\n",
       "      <td>...</td>\n",
       "      <td>...</td>\n",
       "      <td>...</td>\n",
       "      <td>...</td>\n",
       "      <td>...</td>\n",
       "      <td>...</td>\n",
       "      <td>...</td>\n",
       "    </tr>\n",
       "    <tr>\n",
       "      <th>2024-12-19 13:00:00+02:00</th>\n",
       "      <td>8.7</td>\n",
       "      <td>88</td>\n",
       "      <td>5.7</td>\n",
       "      <td>5.6</td>\n",
       "      <td>9.3</td>\n",
       "      <td>218.0</td>\n",
       "      <td>100.0</td>\n",
       "      <td>997.6</td>\n",
       "      <td>0.0</td>\n",
       "      <td>cloudy</td>\n",
       "    </tr>\n",
       "    <tr>\n",
       "      <th>2024-12-19 14:00:00+02:00</th>\n",
       "      <td>8.5</td>\n",
       "      <td>88</td>\n",
       "      <td>5.1</td>\n",
       "      <td>6.5</td>\n",
       "      <td>9.5</td>\n",
       "      <td>214.0</td>\n",
       "      <td>100.0</td>\n",
       "      <td>996.5</td>\n",
       "      <td>0.0</td>\n",
       "      <td>cloudy</td>\n",
       "    </tr>\n",
       "    <tr>\n",
       "      <th>2024-12-19 15:00:00+02:00</th>\n",
       "      <td>8.7</td>\n",
       "      <td>86</td>\n",
       "      <td>5.0</td>\n",
       "      <td>7.8</td>\n",
       "      <td>11.6</td>\n",
       "      <td>216.0</td>\n",
       "      <td>100.0</td>\n",
       "      <td>995.8</td>\n",
       "      <td>0.0</td>\n",
       "      <td>cloudy</td>\n",
       "    </tr>\n",
       "    <tr>\n",
       "      <th>2024-12-19 16:00:00+02:00</th>\n",
       "      <td>8.5</td>\n",
       "      <td>85</td>\n",
       "      <td>4.5</td>\n",
       "      <td>8.6</td>\n",
       "      <td>11.7</td>\n",
       "      <td>203.0</td>\n",
       "      <td>100.0</td>\n",
       "      <td>994.9</td>\n",
       "      <td>0.0</td>\n",
       "      <td>cloudy</td>\n",
       "    </tr>\n",
       "    <tr>\n",
       "      <th>2024-12-19 17:00:00+02:00</th>\n",
       "      <td>8.6</td>\n",
       "      <td>83</td>\n",
       "      <td>4.9</td>\n",
       "      <td>7.8</td>\n",
       "      <td>11.4</td>\n",
       "      <td>202.0</td>\n",
       "      <td>100.0</td>\n",
       "      <td>993.9</td>\n",
       "      <td>0.0</td>\n",
       "      <td>cloudy</td>\n",
       "    </tr>\n",
       "  </tbody>\n",
       "</table>\n",
       "<p>8776 rows × 10 columns</p>\n",
       "</div>"
      ],
      "text/plain": [
       "                           airTemperature relativeHumidity  \\\n",
       "observationTimeUtc                                           \n",
       "2023-12-20 02:00:00+02:00             5.7               96   \n",
       "2023-12-20 03:00:00+02:00             5.6               95   \n",
       "2023-12-20 04:00:00+02:00             5.5               95   \n",
       "2023-12-20 05:00:00+02:00             4.3               96   \n",
       "2023-12-20 06:00:00+02:00             4.1               94   \n",
       "...                                   ...              ...   \n",
       "2024-12-19 13:00:00+02:00             8.7               88   \n",
       "2024-12-19 14:00:00+02:00             8.5               88   \n",
       "2024-12-19 15:00:00+02:00             8.7               86   \n",
       "2024-12-19 16:00:00+02:00             8.5               85   \n",
       "2024-12-19 17:00:00+02:00             8.6               83   \n",
       "\n",
       "                           feelsLikeTemperature  windSpeed  windGust  \\\n",
       "observationTimeUtc                                                     \n",
       "2023-12-20 02:00:00+02:00                   2.3        4.8       9.2   \n",
       "2023-12-20 03:00:00+02:00                   2.1        4.9       8.6   \n",
       "2023-12-20 04:00:00+02:00                   2.3        4.2       8.4   \n",
       "2023-12-20 05:00:00+02:00                   1.5        3.2       7.3   \n",
       "2023-12-20 06:00:00+02:00                   1.9        2.4       6.5   \n",
       "...                                         ...        ...       ...   \n",
       "2024-12-19 13:00:00+02:00                   5.7        5.6       9.3   \n",
       "2024-12-19 14:00:00+02:00                   5.1        6.5       9.5   \n",
       "2024-12-19 15:00:00+02:00                   5.0        7.8      11.6   \n",
       "2024-12-19 16:00:00+02:00                   4.5        8.6      11.7   \n",
       "2024-12-19 17:00:00+02:00                   4.9        7.8      11.4   \n",
       "\n",
       "                           windDirection  cloudCover  seaLevelPressure  \\\n",
       "observationTimeUtc                                                       \n",
       "2023-12-20 02:00:00+02:00          263.0       100.0            1002.0   \n",
       "2023-12-20 03:00:00+02:00          260.0       100.0            1001.5   \n",
       "2023-12-20 04:00:00+02:00          295.0       100.0            1001.4   \n",
       "2023-12-20 05:00:00+02:00          306.0       100.0            1001.6   \n",
       "2023-12-20 06:00:00+02:00          271.0       100.0            1001.6   \n",
       "...                                  ...         ...               ...   \n",
       "2024-12-19 13:00:00+02:00          218.0       100.0             997.6   \n",
       "2024-12-19 14:00:00+02:00          214.0       100.0             996.5   \n",
       "2024-12-19 15:00:00+02:00          216.0       100.0             995.8   \n",
       "2024-12-19 16:00:00+02:00          203.0       100.0             994.9   \n",
       "2024-12-19 17:00:00+02:00          202.0       100.0             993.9   \n",
       "\n",
       "                           precipitation conditionCode  \n",
       "observationTimeUtc                                      \n",
       "2023-12-20 02:00:00+02:00            0.1    light-rain  \n",
       "2023-12-20 03:00:00+02:00            0.0    light-rain  \n",
       "2023-12-20 04:00:00+02:00            0.1    light-rain  \n",
       "2023-12-20 05:00:00+02:00            0.3    light-rain  \n",
       "2023-12-20 06:00:00+02:00            0.1          rain  \n",
       "...                                  ...           ...  \n",
       "2024-12-19 13:00:00+02:00            0.0        cloudy  \n",
       "2024-12-19 14:00:00+02:00            0.0        cloudy  \n",
       "2024-12-19 15:00:00+02:00            0.0        cloudy  \n",
       "2024-12-19 16:00:00+02:00            0.0        cloudy  \n",
       "2024-12-19 17:00:00+02:00            0.0        cloudy  \n",
       "\n",
       "[8776 rows x 10 columns]"
      ]
     },
     "execution_count": 30,
     "metadata": {},
     "output_type": "execute_result"
    }
   ],
   "source": [
    "dfHistoric"
   ]
  },
  {
   "cell_type": "code",
   "execution_count": 31,
   "metadata": {},
   "outputs": [
    {
     "data": {
      "text/html": [
       "<div>\n",
       "<style scoped>\n",
       "    .dataframe tbody tr th:only-of-type {\n",
       "        vertical-align: middle;\n",
       "    }\n",
       "\n",
       "    .dataframe tbody tr th {\n",
       "        vertical-align: top;\n",
       "    }\n",
       "\n",
       "    .dataframe thead th {\n",
       "        text-align: right;\n",
       "    }\n",
       "</style>\n",
       "<table border=\"1\" class=\"dataframe\">\n",
       "  <thead>\n",
       "    <tr style=\"text-align: right;\">\n",
       "      <th></th>\n",
       "      <th>airTemperature</th>\n",
       "      <th>feelsLikeTemperature</th>\n",
       "      <th>windSpeed</th>\n",
       "      <th>windGust</th>\n",
       "      <th>windDirection</th>\n",
       "      <th>cloudCover</th>\n",
       "      <th>seaLevelPressure</th>\n",
       "      <th>relativeHumidity</th>\n",
       "      <th>totalPrecipitation</th>\n",
       "      <th>conditionCode</th>\n",
       "    </tr>\n",
       "    <tr>\n",
       "      <th>forecastTimeUtc</th>\n",
       "      <th></th>\n",
       "      <th></th>\n",
       "      <th></th>\n",
       "      <th></th>\n",
       "      <th></th>\n",
       "      <th></th>\n",
       "      <th></th>\n",
       "      <th></th>\n",
       "      <th></th>\n",
       "      <th></th>\n",
       "    </tr>\n",
       "  </thead>\n",
       "  <tbody>\n",
       "    <tr>\n",
       "      <th>2024-12-19 16:00:00+02:00</th>\n",
       "      <td>9.0</td>\n",
       "      <td>6.0</td>\n",
       "      <td>6</td>\n",
       "      <td>11</td>\n",
       "      <td>193</td>\n",
       "      <td>100</td>\n",
       "      <td>995</td>\n",
       "      <td>85</td>\n",
       "      <td>0.0</td>\n",
       "      <td>cloudy</td>\n",
       "    </tr>\n",
       "    <tr>\n",
       "      <th>2024-12-19 17:00:00+02:00</th>\n",
       "      <td>8.8</td>\n",
       "      <td>5.7</td>\n",
       "      <td>6</td>\n",
       "      <td>11</td>\n",
       "      <td>196</td>\n",
       "      <td>100</td>\n",
       "      <td>995</td>\n",
       "      <td>83</td>\n",
       "      <td>0.0</td>\n",
       "      <td>cloudy</td>\n",
       "    </tr>\n",
       "    <tr>\n",
       "      <th>2024-12-19 18:00:00+02:00</th>\n",
       "      <td>8.5</td>\n",
       "      <td>5.3</td>\n",
       "      <td>6</td>\n",
       "      <td>11</td>\n",
       "      <td>206</td>\n",
       "      <td>100</td>\n",
       "      <td>994</td>\n",
       "      <td>83</td>\n",
       "      <td>0.0</td>\n",
       "      <td>cloudy</td>\n",
       "    </tr>\n",
       "    <tr>\n",
       "      <th>2024-12-19 19:00:00+02:00</th>\n",
       "      <td>7.8</td>\n",
       "      <td>4.8</td>\n",
       "      <td>5</td>\n",
       "      <td>11</td>\n",
       "      <td>207</td>\n",
       "      <td>100</td>\n",
       "      <td>994</td>\n",
       "      <td>89</td>\n",
       "      <td>0.5</td>\n",
       "      <td>rain</td>\n",
       "    </tr>\n",
       "    <tr>\n",
       "      <th>2024-12-19 20:00:00+02:00</th>\n",
       "      <td>7.4</td>\n",
       "      <td>4.3</td>\n",
       "      <td>5</td>\n",
       "      <td>11</td>\n",
       "      <td>202</td>\n",
       "      <td>100</td>\n",
       "      <td>993</td>\n",
       "      <td>93</td>\n",
       "      <td>0.8</td>\n",
       "      <td>rain</td>\n",
       "    </tr>\n",
       "    <tr>\n",
       "      <th>...</th>\n",
       "      <td>...</td>\n",
       "      <td>...</td>\n",
       "      <td>...</td>\n",
       "      <td>...</td>\n",
       "      <td>...</td>\n",
       "      <td>...</td>\n",
       "      <td>...</td>\n",
       "      <td>...</td>\n",
       "      <td>...</td>\n",
       "      <td>...</td>\n",
       "    </tr>\n",
       "    <tr>\n",
       "      <th>2024-12-25 14:00:00+02:00</th>\n",
       "      <td>-0.2</td>\n",
       "      <td>-2.7</td>\n",
       "      <td>2</td>\n",
       "      <td>5</td>\n",
       "      <td>350</td>\n",
       "      <td>91</td>\n",
       "      <td>1035</td>\n",
       "      <td>88</td>\n",
       "      <td>0.0</td>\n",
       "      <td>cloudy</td>\n",
       "    </tr>\n",
       "    <tr>\n",
       "      <th>2024-12-25 20:00:00+02:00</th>\n",
       "      <td>-1.4</td>\n",
       "      <td>-1.4</td>\n",
       "      <td>1</td>\n",
       "      <td>5</td>\n",
       "      <td>4</td>\n",
       "      <td>100</td>\n",
       "      <td>1037</td>\n",
       "      <td>95</td>\n",
       "      <td>0.0</td>\n",
       "      <td>cloudy</td>\n",
       "    </tr>\n",
       "    <tr>\n",
       "      <th>2024-12-26 02:00:00+02:00</th>\n",
       "      <td>-1.0</td>\n",
       "      <td>-1.0</td>\n",
       "      <td>1</td>\n",
       "      <td>3</td>\n",
       "      <td>333</td>\n",
       "      <td>100</td>\n",
       "      <td>1039</td>\n",
       "      <td>97</td>\n",
       "      <td>0.0</td>\n",
       "      <td>cloudy</td>\n",
       "    </tr>\n",
       "    <tr>\n",
       "      <th>2024-12-26 08:00:00+02:00</th>\n",
       "      <td>-1.6</td>\n",
       "      <td>-1.6</td>\n",
       "      <td>1</td>\n",
       "      <td>2</td>\n",
       "      <td>220</td>\n",
       "      <td>100</td>\n",
       "      <td>1040</td>\n",
       "      <td>99</td>\n",
       "      <td>0.0</td>\n",
       "      <td>cloudy</td>\n",
       "    </tr>\n",
       "    <tr>\n",
       "      <th>2024-12-26 14:00:00+02:00</th>\n",
       "      <td>-0.6</td>\n",
       "      <td>-0.6</td>\n",
       "      <td>1</td>\n",
       "      <td>3</td>\n",
       "      <td>210</td>\n",
       "      <td>100</td>\n",
       "      <td>1040</td>\n",
       "      <td>94</td>\n",
       "      <td>0.0</td>\n",
       "      <td>cloudy</td>\n",
       "    </tr>\n",
       "  </tbody>\n",
       "</table>\n",
       "<p>85 rows × 10 columns</p>\n",
       "</div>"
      ],
      "text/plain": [
       "                           airTemperature  feelsLikeTemperature  windSpeed  \\\n",
       "forecastTimeUtc                                                              \n",
       "2024-12-19 16:00:00+02:00             9.0                   6.0          6   \n",
       "2024-12-19 17:00:00+02:00             8.8                   5.7          6   \n",
       "2024-12-19 18:00:00+02:00             8.5                   5.3          6   \n",
       "2024-12-19 19:00:00+02:00             7.8                   4.8          5   \n",
       "2024-12-19 20:00:00+02:00             7.4                   4.3          5   \n",
       "...                                   ...                   ...        ...   \n",
       "2024-12-25 14:00:00+02:00            -0.2                  -2.7          2   \n",
       "2024-12-25 20:00:00+02:00            -1.4                  -1.4          1   \n",
       "2024-12-26 02:00:00+02:00            -1.0                  -1.0          1   \n",
       "2024-12-26 08:00:00+02:00            -1.6                  -1.6          1   \n",
       "2024-12-26 14:00:00+02:00            -0.6                  -0.6          1   \n",
       "\n",
       "                           windGust  windDirection  cloudCover  \\\n",
       "forecastTimeUtc                                                  \n",
       "2024-12-19 16:00:00+02:00        11            193         100   \n",
       "2024-12-19 17:00:00+02:00        11            196         100   \n",
       "2024-12-19 18:00:00+02:00        11            206         100   \n",
       "2024-12-19 19:00:00+02:00        11            207         100   \n",
       "2024-12-19 20:00:00+02:00        11            202         100   \n",
       "...                             ...            ...         ...   \n",
       "2024-12-25 14:00:00+02:00         5            350          91   \n",
       "2024-12-25 20:00:00+02:00         5              4         100   \n",
       "2024-12-26 02:00:00+02:00         3            333         100   \n",
       "2024-12-26 08:00:00+02:00         2            220         100   \n",
       "2024-12-26 14:00:00+02:00         3            210         100   \n",
       "\n",
       "                           seaLevelPressure  relativeHumidity  \\\n",
       "forecastTimeUtc                                                 \n",
       "2024-12-19 16:00:00+02:00               995                85   \n",
       "2024-12-19 17:00:00+02:00               995                83   \n",
       "2024-12-19 18:00:00+02:00               994                83   \n",
       "2024-12-19 19:00:00+02:00               994                89   \n",
       "2024-12-19 20:00:00+02:00               993                93   \n",
       "...                                     ...               ...   \n",
       "2024-12-25 14:00:00+02:00              1035                88   \n",
       "2024-12-25 20:00:00+02:00              1037                95   \n",
       "2024-12-26 02:00:00+02:00              1039                97   \n",
       "2024-12-26 08:00:00+02:00              1040                99   \n",
       "2024-12-26 14:00:00+02:00              1040                94   \n",
       "\n",
       "                           totalPrecipitation conditionCode  \n",
       "forecastTimeUtc                                              \n",
       "2024-12-19 16:00:00+02:00                 0.0        cloudy  \n",
       "2024-12-19 17:00:00+02:00                 0.0        cloudy  \n",
       "2024-12-19 18:00:00+02:00                 0.0        cloudy  \n",
       "2024-12-19 19:00:00+02:00                 0.5          rain  \n",
       "2024-12-19 20:00:00+02:00                 0.8          rain  \n",
       "...                                       ...           ...  \n",
       "2024-12-25 14:00:00+02:00                 0.0        cloudy  \n",
       "2024-12-25 20:00:00+02:00                 0.0        cloudy  \n",
       "2024-12-26 02:00:00+02:00                 0.0        cloudy  \n",
       "2024-12-26 08:00:00+02:00                 0.0        cloudy  \n",
       "2024-12-26 14:00:00+02:00                 0.0        cloudy  \n",
       "\n",
       "[85 rows x 10 columns]"
      ]
     },
     "execution_count": 31,
     "metadata": {},
     "output_type": "execute_result"
    }
   ],
   "source": [
    "dfForcast"
   ]
  },
  {
   "cell_type": "markdown",
   "metadata": {},
   "source": [
    "Calculating the themperature and humidity means from historic data"
   ]
  },
  {
   "cell_type": "code",
   "execution_count": 32,
   "metadata": {},
   "outputs": [
    {
     "name": "stdout",
     "output_type": "stream",
     "text": [
      "average historic temparature for past year:\n",
      "9.771456244302644\n",
      "\n",
      "average historic humidity for past year:\n",
      "78.46422060164083\n"
     ]
    }
   ],
   "source": [
    "# Kadangi duomenys saugomi pandas.Dataframe tiesiog naudojau pacios pandas bibliotekos metodus\n",
    "print('average historic temparature for past year:')\n",
    "print(dfHistoric['airTemperature'].mean())\n",
    "print('\\naverage historic humidity for past year:')\n",
    "print(dfHistoric['relativeHumidity'].mean())"
   ]
  },
  {
   "cell_type": "markdown",
   "metadata": {},
   "source": [
    "Calculating average historic day and night temperatur for last year"
   ]
  },
  {
   "cell_type": "code",
   "execution_count": 33,
   "metadata": {},
   "outputs": [
    {
     "name": "stdout",
     "output_type": "stream",
     "text": [
      "average historic day temparature for past year:\n",
      "11.262208201892744\n",
      "\n",
      "average historic night temparature for past year:\n",
      "8.008579955235016\n"
     ]
    }
   ],
   "source": [
    "# Iš istorinių duomenų rinkinio susikūriau du atskirus naujus pandas.Dataframe objektus, kur panaudojau filtravimą\n",
    "dfHistDay: pd.DataFrame = dfHistoric[(dfHistoric.index.hour >= 8) & (dfHistoric.index.hour <= 20)]\n",
    "dfHistNight: pd.DataFrame = dfHistoric.drop(index = dfHistDay.index)\n",
    "\n",
    "print('average historic day temparature for past year:')\n",
    "print(dfHistDay['airTemperature'].mean())\n",
    "print('\\naverage historic night temparature for past year:')\n",
    "print(dfHistNight['airTemperature'].mean())"
   ]
  },
  {
   "cell_type": "markdown",
   "metadata": {},
   "source": [
    "Calculating how many weekends had some sort of rain forecast for last year"
   ]
  },
  {
   "cell_type": "code",
   "execution_count": 34,
   "metadata": {},
   "outputs": [
    {
     "name": "stdout",
     "output_type": "stream",
     "text": [
      "number of weekends where some kind of rain occured for past year\n",
      "36 / 52\n",
      "\n",
      "\n"
     ]
    },
    {
     "name": "stderr",
     "output_type": "stream",
     "text": [
      "C:\\Users\\Vartotojas1\\AppData\\Local\\Temp\\ipykernel_17428\\2378777888.py:3: UserWarning: Converting to PeriodArray/Index representation will drop timezone information.\n",
      "  dfHistWeekend.loc[:, ('week')] = dfHistWeekend.index.to_period('W-SUN') # Sugrupuojame visus įrašus savaitėmis\n",
      "C:\\Users\\Vartotojas1\\AppData\\Local\\Temp\\ipykernel_17428\\2378777888.py:3: SettingWithCopyWarning: \n",
      "A value is trying to be set on a copy of a slice from a DataFrame.\n",
      "Try using .loc[row_indexer,col_indexer] = value instead\n",
      "\n",
      "See the caveats in the documentation: https://pandas.pydata.org/pandas-docs/stable/user_guide/indexing.html#returning-a-view-versus-a-copy\n",
      "  dfHistWeekend.loc[:, ('week')] = dfHistWeekend.index.to_period('W-SUN') # Sugrupuojame visus įrašus savaitėmis\n"
     ]
    }
   ],
   "source": [
    "# Pirma pašaliname visus įrašus kurie yra ne šeštadienis/sekmadienis\n",
    "dfHistWeekend = dfHistoric[dfHistoric.index.weekday >= 5]\n",
    "dfHistWeekend.loc[:, ('week')] = dfHistWeekend.index.to_period('W-SUN') # Sugrupuojame visus įrašus savaitėmis\n",
    "# Kadangi užduotyje nebuvo parašyta kokio tiksliai lietaus ieškome, iš visų galimų orų kategorijų tiesiog ieškau visų kur vyksta koks nors lietus\n",
    "# Sukuriamas naujas duomenų rinkinys (pandas.Series), kur raktinė reikšmė yra savitės ribos (visos 7 dienos, tačiau atrinkimas buvo daromas tik savaitgaliams),\n",
    "# o saugoma reikšmė yra arba 0 (lietaus nebuvo), arba 1 (lyjo)\n",
    "weatherChecks =  ['light-rain', 'rain', 'heavy-rain', 'isolated-thunderstorms', 'thunderstorms', 'heavy-rain-with-thunderstorms']\n",
    "rainCheck = dfHistWeekend.groupby('week')['conditionCode'].apply(lambda x: any(condition in x.values for condition in weatherChecks)).astype(int)\n",
    "dfWeekendRain = pd.DataFrame(rainCheck)\n",
    "dfWeekendRain.columns = ['rainOccured']\n",
    "\n",
    "# Galiausiai atvaizduojame rezultatą. Atvaizdavau iš kiek savaičių lyjo, patikrinti ar buvo teisingai sugrupuotos dienos (Metai turėtų turėti 52 savaitgalius)\n",
    "print('number of weekends where some kind of rain occured for past year')\n",
    "rainNum = dfWeekendRain['rainOccured'].sum()\n",
    "dfRainLen = len(dfWeekendRain)\n",
    "print(f'{rainNum} / {dfRainLen}\\n\\n')"
   ]
  },
  {
   "cell_type": "markdown",
   "metadata": {},
   "source": [
    "Geting temperatures for last week and future forecasts"
   ]
  },
  {
   "cell_type": "code",
   "execution_count": 35,
   "metadata": {},
   "outputs": [],
   "source": [
    "currentTime = pd.Timestamp.now(tz=dfHistoric.index.tz)\n",
    "lastWeekTime = currentTime - pd.DateOffset(weeks=1)\n",
    "dfHistWeek = dfHistoric[dfHistoric.index >= lastWeekTime]\n",
    "\n",
    "histTemperature = dfHistWeek['airTemperature']\n",
    "futureTemperature = dfForcast['airTemperature']"
   ]
  },
  {
   "cell_type": "markdown",
   "metadata": {},
   "source": [
    "Ploting the temperatures"
   ]
  },
  {
   "cell_type": "code",
   "execution_count": 36,
   "metadata": {},
   "outputs": [
    {
     "data": {
      "image/png": "[encoded data removed]",
      "text/plain": [
       "<Figure size 1000x600 with 1 Axes>"
      ]
     },
     "metadata": {},
     "output_type": "display_data"
    }
   ],
   "source": [
    "# Naudojau matplotlib.pyplot, nes nebuvo specifinių reikalavimų su kuo atvaizduoti\n",
    "plt.figure(figsize=(10, 6))\n",
    "plt.plot(histTemperature, label=\"Past week\", marker='o')\n",
    "plt.plot(futureTemperature, label=\"Future week forecast\", marker='o')\n",
    "\n",
    "plt.xlabel('Date')\n",
    "plt.ylabel('Temperature (°C)')\n",
    "plt.title('Temperature forcasts for past and future week')\n",
    "plt.xticks(rotation=45)\n",
    "plt.legend()\n",
    "plt.tight_layout()\n",
    "plt.show()"
   ]
  },
  {
   "cell_type": "markdown",
   "metadata": {},
   "source": [
    "The method for interpolating temperatures"
   ]
  },
  {
   "cell_type": "code",
   "execution_count": 37,
   "metadata": {},
   "outputs": [],
   "source": [
    "# pandas biblioteka turi savo interpoliacijos funkcijas, dėl to tiesiog panaudojau jau ten egzistuojančią\n",
    "def resample(temperatures: pd.Series) -> pd.Series :\n",
    "    newTemperatures = temperatures.resample('5T').interpolate(method='linear')\n",
    "    return newTemperatures"
   ]
  },
  {
   "cell_type": "markdown",
   "metadata": {},
   "source": [
    "Testing Interpolation"
   ]
  },
  {
   "cell_type": "code",
   "execution_count": 38,
   "metadata": {},
   "outputs": [],
   "source": [
    "# Kad nebūtų labai daug temperatūrų taškų per naujo išsitraukiau tik šendienos temperatūras ir interpoliacijas darau su jomis\n",
    "dfToday = api.historicData(timeFrom = date.today(), timeTo = date.today())\n",
    "hourlyTemperature = dfToday['airTemperature']\n",
    "minuteTemperature = resample(temperatures = hourlyTemperature)"
   ]
  },
  {
   "cell_type": "markdown",
   "metadata": {},
   "source": [
    "Printing out results to check, if the temperature was interpolated every 5 minutes"
   ]
  },
  {
   "cell_type": "code",
   "execution_count": 16,
   "metadata": {},
   "outputs": [
    {
     "name": "stdout",
     "output_type": "stream",
     "text": [
      "observationTimeUtc\n",
      "2024-12-19 02:00:00+02:00    5.600000\n",
      "2024-12-19 02:05:00+02:00    5.608333\n",
      "2024-12-19 02:10:00+02:00    5.616667\n",
      "2024-12-19 02:15:00+02:00    5.625000\n",
      "2024-12-19 02:20:00+02:00    5.633333\n",
      "                               ...   \n",
      "2024-12-19 15:40:00+02:00    8.566667\n",
      "2024-12-19 15:45:00+02:00    8.550000\n",
      "2024-12-19 15:50:00+02:00    8.533333\n",
      "2024-12-19 15:55:00+02:00    8.516667\n",
      "2024-12-19 16:00:00+02:00    8.500000\n",
      "Freq: 5T, Name: airTemperature, Length: 169, dtype: float64\n"
     ]
    }
   ],
   "source": [
    "print(minuteTemperature)"
   ]
  },
  {
   "cell_type": "markdown",
   "metadata": {},
   "source": [
    "Ploting result"
   ]
  },
  {
   "cell_type": "code",
   "execution_count": null,
   "metadata": {},
   "outputs": [
    {
     "data": {
      "image/png": "[encoded data removed]",
      "text/plain": [
       "<Figure size 1000x600 with 1 Axes>"
      ]
     },
     "metadata": {},
     "output_type": "display_data"
    }
   ],
   "source": [
    "# Su matplotlib.pyplot atvaizdavau tikrą ir interpoliuotas temperatūras, kad pamatyčiau ar skaičiavimai buvo atlikti teisingai\n",
    "plt.figure(figsize=(10, 6))\n",
    "plt.plot(hourlyTemperature, label='Hourly temperature', marker='o', color='blue')\n",
    "plt.plot(minuteTemperature, label='Interpolated temperature', linestyle='--', color='red')\n",
    "\n",
    "plt.xlabel('Time')\n",
    "plt.ylabel('Temperature (°C)')\n",
    "plt.title('True and interpolated temperatures comparison')\n",
    "plt.xticks(rotation=45)\n",
    "plt.legend()\n",
    "plt.tight_layout()\n",
    "plt.show()"
   ]
  }
 ],
 "metadata": {
  "kernelspec": {
   "display_name": "Python 3",
   "language": "python",
   "name": "python3"
  },
  "language_info": {
   "codemirror_mode": {
    "name": "ipython",
    "version": 3
   },
   "file_extension": ".py",
   "mimetype": "text/x-python",
   "name": "python",
   "nbconvert_exporter": "python",
   "pygments_lexer": "ipython3",
   "version": "3.10.10"
  }
 },
 "nbformat": 4,
 "nbformat_minor": 2
}
